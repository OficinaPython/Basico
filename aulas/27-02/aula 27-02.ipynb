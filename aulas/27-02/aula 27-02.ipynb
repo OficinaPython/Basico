{
 "cells": [
  {
   "cell_type": "code",
   "execution_count": 1,
   "metadata": {},
   "outputs": [
    {
     "name": "stdout",
     "output_type": "stream",
     "text": [
      "Ola Mundo!\n"
     ]
    }
   ],
   "source": [
    "# Ola mundo\n",
    "print('Ola Mundo!')"
   ]
  },
  {
   "cell_type": "code",
   "execution_count": 2,
   "metadata": {},
   "outputs": [],
   "source": [
    "# Tipos Primitivos:"
   ]
  },
  {
   "cell_type": "code",
   "execution_count": 3,
   "metadata": {},
   "outputs": [
    {
     "name": "stdout",
     "output_type": "stream",
     "text": [
      "<class 'int'>\n",
      "<class 'int'>\n"
     ]
    }
   ],
   "source": [
    "# Inteiro:\n",
    "a = 100\n",
    "b = 372\n",
    "\n",
    "# Mostra o Tipo de variável\n",
    "print(type(a))\n",
    "print(type(b))"
   ]
  },
  {
   "cell_type": "code",
   "execution_count": 4,
   "metadata": {},
   "outputs": [
    {
     "name": "stdout",
     "output_type": "stream",
     "text": [
      "<class 'float'>\n",
      "<class 'float'>\n"
     ]
    }
   ],
   "source": [
    "# Float:\n",
    "a = 42.5\n",
    "b = 220.0\n",
    "\n",
    "print(type(a))\n",
    "print(type(b))"
   ]
  },
  {
   "cell_type": "code",
   "execution_count": 5,
   "metadata": {},
   "outputs": [
    {
     "name": "stdout",
     "output_type": "stream",
     "text": [
      "<class 'str'>\n",
      "<class 'str'>\n"
     ]
    }
   ],
   "source": [
    "# String:\n",
    "a = 'Python'\n",
    "b = 'ADS'\n",
    "\n",
    "print(type(a))\n",
    "print(type(b))"
   ]
  },
  {
   "cell_type": "code",
   "execution_count": 6,
   "metadata": {},
   "outputs": [
    {
     "name": "stdout",
     "output_type": "stream",
     "text": [
      "<class 'bool'>\n",
      "<class 'bool'>\n"
     ]
    }
   ],
   "source": [
    "# Booleano:\n",
    "a = True\n",
    "b = False\n",
    "\n",
    "print(type(a))\n",
    "print(type(b))"
   ]
  },
  {
   "cell_type": "code",
   "execution_count": 7,
   "metadata": {},
   "outputs": [
    {
     "name": "stdout",
     "output_type": "stream",
     "text": [
      "Digite seu nome:Lucas\n",
      "Lucas\n",
      "Digite um número:20\n",
      "20\n",
      "<class 'str'>\n"
     ]
    }
   ],
   "source": [
    "# Entrada com Teclado:\n",
    "# input()\n",
    "nome = input('Digite seu nome:')\n",
    "print(nome)\n",
    "\n",
    "a = input('Digite um número:')\n",
    "print(a)\n",
    "print(type(a))"
   ]
  },
  {
   "cell_type": "code",
   "execution_count": 8,
   "metadata": {},
   "outputs": [
    {
     "name": "stdout",
     "output_type": "stream",
     "text": [
      "<class 'int'>\n",
      "<class 'float'>\n",
      "<class 'str'>\n",
      "<class 'bool'>\n"
     ]
    }
   ],
   "source": [
    "# Conversão:\n",
    "# Para Inteiro\n",
    "a = int(a)\n",
    "print(type(a))\n",
    "\n",
    "# Para Float\n",
    "a = float(a)\n",
    "print(type(a))\n",
    "\n",
    "# Para String\n",
    "a = str(a)\n",
    "print(type(a))\n",
    "\n",
    "# Para Boolean\n",
    "a = bool(a)\n",
    "print(type(a))"
   ]
  },
  {
   "cell_type": "code",
   "execution_count": 9,
   "metadata": {
    "scrolled": true
   },
   "outputs": [
    {
     "name": "stdout",
     "output_type": "stream",
     "text": [
      "False\n",
      "False\n",
      "True\n",
      "True\n"
     ]
    }
   ],
   "source": [
    "# True ou False?:\n",
    "a = 0\n",
    "b = ''\n",
    "print(bool(a))\n",
    "print(bool(b))\n",
    "\n",
    "a = 1\n",
    "b = 'Olá'\n",
    "print(bool(a))\n",
    "print(bool(b))"
   ]
  },
  {
   "cell_type": "code",
   "execution_count": null,
   "metadata": {},
   "outputs": [],
   "source": [
    "# Operadores Aritméticos"
   ]
  },
  {
   "cell_type": "code",
   "execution_count": 10,
   "metadata": {},
   "outputs": [
    {
     "name": "stdout",
     "output_type": "stream",
     "text": [
      "13\n",
      "9\n",
      "22\n",
      "5.5\n"
     ]
    }
   ],
   "source": [
    "a = 11\n",
    "b = 2\n",
    "\n",
    "# Adição, Subtração, Multiplicação e Divisão \n",
    "c = a + b\n",
    "print(c)\n",
    "\n",
    "c = a - b\n",
    "print(c)\n",
    "\n",
    "c = a * b\n",
    "print(c)\n",
    "\n",
    "c = a / b\n",
    "print(c)"
   ]
  },
  {
   "cell_type": "code",
   "execution_count": 11,
   "metadata": {},
   "outputs": [
    {
     "name": "stdout",
     "output_type": "stream",
     "text": [
      "121\n",
      "1\n",
      "5\n"
     ]
    }
   ],
   "source": [
    "# Exponenciação\n",
    "c = a ** b\n",
    "print(c)\n",
    "\n",
    "# Módulo\n",
    "c = a % b\n",
    "print(c)\n",
    "\n",
    "# Divisão Inteira\n",
    "c = a // b\n",
    "print(c)"
   ]
  },
  {
   "cell_type": "code",
   "execution_count": 12,
   "metadata": {},
   "outputs": [],
   "source": [
    "# Operadores lógicos"
   ]
  },
  {
   "cell_type": "code",
   "execution_count": 13,
   "metadata": {},
   "outputs": [
    {
     "name": "stdout",
     "output_type": "stream",
     "text": [
      "True\n",
      "False\n"
     ]
    }
   ],
   "source": [
    "# Retornam valores booleanos\n",
    "a = 12\n",
    "b = 6\n",
    "\n",
    "# Maior que: > / Menor que: <\n",
    "teste = a > b\n",
    "print(teste)\n",
    "\n",
    "teste = a < b\n",
    "print(teste)"
   ]
  },
  {
   "cell_type": "code",
   "execution_count": 14,
   "metadata": {},
   "outputs": [
    {
     "name": "stdout",
     "output_type": "stream",
     "text": [
      "True\n",
      "False\n"
     ]
    }
   ],
   "source": [
    "# Maior igual que: >= / Menor igual que: <=\n",
    "teste = a >= b\n",
    "print(teste)\n",
    "\n",
    "teste = a <= b\n",
    "print(teste)"
   ]
  },
  {
   "cell_type": "code",
   "execution_count": 15,
   "metadata": {},
   "outputs": [
    {
     "name": "stdout",
     "output_type": "stream",
     "text": [
      "False\n",
      "True\n",
      "False\n",
      "True\n"
     ]
    }
   ],
   "source": [
    "# Igual: == / Diferente: !=\n",
    "teste = a == b\n",
    "print(teste)\n",
    "\n",
    "teste = a != b\n",
    "print(teste)\n",
    "\n",
    "# Is / Is not\n",
    "teste = a is b\n",
    "print(teste)\n",
    "\n",
    "teste = a is not b\n",
    "print(teste)"
   ]
  },
  {
   "cell_type": "code",
   "execution_count": 16,
   "metadata": {},
   "outputs": [],
   "source": [
    "# Endentação & Testes lógicos"
   ]
  },
  {
   "cell_type": "code",
   "execution_count": 17,
   "metadata": {
    "scrolled": true
   },
   "outputs": [
    {
     "name": "stdout",
     "output_type": "stream",
     "text": [
      "a:a\n",
      "b:b\n",
      "A menor que B\n"
     ]
    }
   ],
   "source": [
    "# if / elif / else\n",
    "\n",
    "# conversão rápida\n",
    "a = input('a:')\n",
    "b = input('b:')\n",
    "\n",
    "if a > b:\n",
    "    print('A maior que B')\n",
    "elif a < b:\n",
    "    print('A menor que B')\n",
    "else:\n",
    "    print('A igual a B')\n",
    "    \n"
   ]
  },
  {
   "cell_type": "code",
   "execution_count": null,
   "metadata": {},
   "outputs": [],
   "source": [
    "'''\n",
    "1 - Crie um programa que leia 2 notas de um aluno e mostre sua média\n",
    "\n",
    "2 - Faça um programa que receba o valor de um produto e mostre\n",
    "seu novo preço com 10% de desconto\n",
    "\n",
    "3 - Monte um algoritmo que leia um número inteiro qualquer \n",
    "e mostre sua tabuada\n",
    "\n",
    "'''"
   ]
  }
 ],
 "metadata": {
  "kernelspec": {
   "display_name": "Python 3",
   "language": "python",
   "name": "python3"
  },
  "language_info": {
   "codemirror_mode": {
    "name": "ipython",
    "version": 3
   },
   "file_extension": ".py",
   "mimetype": "text/x-python",
   "name": "python",
   "nbconvert_exporter": "python",
   "pygments_lexer": "ipython3",
   "version": "3.7.2"
  }
 },
 "nbformat": 4,
 "nbformat_minor": 2
}
