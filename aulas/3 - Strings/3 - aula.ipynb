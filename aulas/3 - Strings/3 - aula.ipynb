{
 "cells": [
  {
   "cell_type": "code",
   "execution_count": null,
   "metadata": {},
   "outputs": [],
   "source": [
    "# Manipúlação de Textos\n",
    "texto = 'Programar em Python é fácil demais'"
   ]
  },
  {
   "cell_type": "code",
   "execution_count": null,
   "metadata": {},
   "outputs": [],
   "source": [
    "# Mostrando Quantidade de Caracteres\n",
    "print(len(texto))"
   ]
  },
  {
   "cell_type": "code",
   "execution_count": null,
   "metadata": {},
   "outputs": [],
   "source": [
    "# Contar quantas vezes a String aparece\n",
    "c1 = texto.count('a')\n",
    "print(c1)\n",
    "\n",
    "c2 = texto.count('Python')\n",
    "print(c2)"
   ]
  },
  {
   "cell_type": "code",
   "execution_count": null,
   "metadata": {},
   "outputs": [],
   "source": [
    "# Informar Posição da String\n",
    "c1 = texto.find('demais')\n",
    "print(c1)\n",
    "\n",
    "# Checa se a palavra está na String\n",
    "teste = 'fácil' in texto\n",
    "print(teste)"
   ]
  },
  {
   "cell_type": "code",
   "execution_count": null,
   "metadata": {},
   "outputs": [],
   "source": [
    "# Alterar string específica\n",
    "c1 = texto.replace('fácil','TOP')\n",
    "print(c1)"
   ]
  },
  {
   "cell_type": "code",
   "execution_count": null,
   "metadata": {},
   "outputs": [],
   "source": [
    "# Maiúsculas \n",
    "c1 = texto.upper()\n",
    "print(c1)\n",
    "\n",
    "# Minúsculas\n",
    "c1 = texto.lower()\n",
    "print(c1)"
   ]
  },
  {
   "cell_type": "code",
   "execution_count": null,
   "metadata": {},
   "outputs": [],
   "source": [
    "# 1° letra de cada Palavra Maiúscula\n",
    "c1 = texto.title()\n",
    "print(c1)\n",
    "\n",
    "# Apenas a 1° letra da 1° palavra maiúscula\n",
    "c1 = texto.capitalize()\n",
    "print(c1)"
   ]
  },
  {
   "cell_type": "code",
   "execution_count": null,
   "metadata": {
    "scrolled": true
   },
   "outputs": [],
   "source": [
    "# Separando Strings\n",
    "c1 = texto.split()\n",
    "print(c1)\n",
    "\n",
    "# Juntando Strings\n",
    "c1 = '-'.join(c1)\n",
    "print(c1)"
   ]
  },
  {
   "cell_type": "code",
   "execution_count": null,
   "metadata": {},
   "outputs": [],
   "source": [
    "# Removendo Espaços em Brancos\n",
    "texto = '     Fatec 2019       '\n",
    "print(texto.strip())"
   ]
  },
  {
   "cell_type": "code",
   "execution_count": null,
   "metadata": {},
   "outputs": [],
   "source": [
    "# Fatiamento de String"
   ]
  },
  {
   "cell_type": "code",
   "execution_count": null,
   "metadata": {},
   "outputs": [],
   "source": [
    "texto = 'Programar em Python é fácil demais'\n",
    "print(texto[0])"
   ]
  },
  {
   "cell_type": "code",
   "execution_count": null,
   "metadata": {},
   "outputs": [],
   "source": [
    "# texto[começo : final : como fatiar]\n",
    "\n",
    "print(texto[13:])\n",
    "\n",
    "print(texto[:20])\n",
    "\n",
    "print(texto[:]) "
   ]
  },
  {
   "cell_type": "code",
   "execution_count": null,
   "metadata": {},
   "outputs": [],
   "source": [
    "# Como fatiar\n",
    "# de 2 em 2\n",
    "print(texto[::2])\n",
    "\n",
    "# de 10 em 10\n",
    "print(texto[::10])"
   ]
  },
  {
   "cell_type": "code",
   "execution_count": null,
   "metadata": {},
   "outputs": [],
   "source": [
    "# Usando tudo\n",
    "print(texto[13:30:6])"
   ]
  },
  {
   "cell_type": "code",
   "execution_count": null,
   "metadata": {},
   "outputs": [],
   "source": [
    "'''\n",
    "1 - Escreva um programa que receba o Nome Completo de uma pessoa, mostre\n",
    "seu seu comprimento (não contando os espaços). E verifique se o nome da \n",
    "pessoa possue a letra 'e'.\n",
    "\n",
    "2 - Faça um algoritmo que cheque se a palavra ou número inserido pelo \n",
    "usuário é o mesmo quando lido ao contrário.\n",
    "    ex: amor : roma     234 : 432\n",
    "        ama  : ama      121 : 121\n",
    "'''"
   ]
  }
 ],
 "metadata": {
  "kernelspec": {
   "display_name": "Python 3",
   "language": "python",
   "name": "python3"
  },
  "language_info": {
   "codemirror_mode": {
    "name": "ipython",
    "version": 3
   },
   "file_extension": ".py",
   "mimetype": "text/x-python",
   "name": "python",
   "nbconvert_exporter": "python",
   "pygments_lexer": "ipython3",
   "version": "3.7.2"
  }
 },
 "nbformat": 4,
 "nbformat_minor": 2
}
